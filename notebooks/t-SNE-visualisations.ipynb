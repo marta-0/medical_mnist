{
  "nbformat": 4,
  "nbformat_minor": 0,
  "metadata": {
    "colab": {
      "name": "t-SNE-visualisations.ipynb",
      "provenance": [],
      "collapsed_sections": [],
      "toc_visible": true,
      "authorship_tag": "ABX9TyPywDv6bWpnG4rPTfRXvvxD",
      "include_colab_link": true
    },
    "kernelspec": {
      "display_name": "Python 3",
      "name": "python3"
    }
  },
  "cells": [
    {
      "cell_type": "markdown",
      "metadata": {
        "id": "view-in-github",
        "colab_type": "text"
      },
      "source": [
        "<a href=\"https://colab.research.google.com/github/marta-0/medical_mnist/blob/main/notebooks/t-SNE-visualisations.ipynb\" target=\"_parent\"><img src=\"https://colab.research.google.com/assets/colab-badge.svg\" alt=\"Open In Colab\"/></a>"
      ]
    },
    {
      "cell_type": "markdown",
      "metadata": {
        "id": "QVyj6CK445Sm"
      },
      "source": [
        "# t-SNE visualisations"
      ]
    },
    {
      "cell_type": "code",
      "metadata": {
        "colab": {
          "base_uri": "https://localhost:8080/"
        },
        "id": "qQqUpWd544dN",
        "outputId": "bc35031e-28a6-46ae-edbb-efbd95818b8e"
      },
      "source": [
        "!pip install lapjv --quiet\n",
        "!pip install rasterfairy-py3 --quiet"
      ],
      "execution_count": null,
      "outputs": [
        {
          "output_type": "stream",
          "text": [
            "  Building wheel for lapjv (setup.py) ... \u001b[?25l\u001b[?25hdone\n"
          ],
          "name": "stdout"
        }
      ]
    },
    {
      "cell_type": "code",
      "metadata": {
        "colab": {
          "base_uri": "https://localhost:8080/"
        },
        "id": "aKjlmKFm460W",
        "outputId": "f7b1bc3d-8164-42d3-b31e-4b21658ddaa9"
      },
      "source": [
        "import os\n",
        "import random\n",
        "import zipfile\n",
        "\n",
        "from PIL import Image, ImageSequence\n",
        "\n",
        "import numpy as np\n",
        "import pandas as pd\n",
        "import math\n",
        "import seaborn as sns\n",
        "import matplotlib.pyplot as plt\n",
        "from matplotlib.offsetbox import OffsetImage, AnnotationBbox\n",
        "\n",
        "from sklearn.manifold import TSNE\n",
        "\n",
        "import tensorflow as tf\n",
        "from tensorflow.keras.models import Model\n",
        "from tensorflow.python.keras.preprocessing import image\n",
        "\n",
        "from lapjv import lapjv\n",
        "from scipy.spatial.distance import cdist\n",
        "import IPython\n",
        "\n",
        "import rasterfairy\n",
        "import io\n",
        "from moviepy.editor import *\n",
        "\n",
        "random.seed(1)\n",
        "np.random.seed(1)\n",
        "tf.random.set_seed(1)"
      ],
      "execution_count": null,
      "outputs": [
        {
          "output_type": "stream",
          "text": [
            "Imageio: 'ffmpeg-linux64-v3.3.1' was not found on your computer; downloading it now.\n",
            "Try 1. Download from https://github.com/imageio/imageio-binaries/raw/master/ffmpeg/ffmpeg-linux64-v3.3.1 (43.8 MB)\n",
            "Downloading: 8192/45929032 bytes (0.0%)\b\b\b\b\b\b\b\b\b\b\b\b\b\b\b\b\b\b\b\b\b\b\b\b\b\b1753088/45929032 bytes (3.8%)\b\b\b\b\b\b\b\b\b\b\b\b\b\b\b\b\b\b\b\b\b\b\b\b\b\b\b\b\b4907008/45929032 bytes (10.7%)\b\b\b\b\b\b\b\b\b\b\b\b\b\b\b\b\b\b\b\b\b\b\b\b\b\b\b\b\b\b8208384/45929032 bytes (17.9%)\b\b\b\b\b\b\b\b\b\b\b\b\b\b\b\b\b\b\b\b\b\b\b\b\b\b\b\b\b\b11460608/45929032 bytes (25.0%)\b\b\b\b\b\b\b\b\b\b\b\b\b\b\b\b\b\b\b\b\b\b\b\b\b\b\b\b\b\b\b14745600/45929032 bytes (32.1%)\b\b\b\b\b\b\b\b\b\b\b\b\b\b\b\b\b\b\b\b\b\b\b\b\b\b\b\b\b\b\b17973248/45929032 bytes (39.1%)\b\b\b\b\b\b\b\b\b\b\b\b\b\b\b\b\b\b\b\b\b\b\b\b\b\b\b\b\b\b\b20815872/45929032 bytes (45.3%)\b\b\b\b\b\b\b\b\b\b\b\b\b\b\b\b\b\b\b\b\b\b\b\b\b\b\b\b\b\b\b24043520/45929032 bytes (52.3%)\b\b\b\b\b\b\b\b\b\b\b\b\b\b\b\b\b\b\b\b\b\b\b\b\b\b\b\b\b\b\b27312128/45929032 bytes (59.5%)\b\b\b\b\b\b\b\b\b\b\b\b\b\b\b\b\b\b\b\b\b\b\b\b\b\b\b\b\b\b\b30425088/45929032 bytes (66.2%)\b\b\b\b\b\b\b\b\b\b\b\b\b\b\b\b\b\b\b\b\b\b\b\b\b\b\b\b\b\b\b33898496/45929032 bytes (73.8%)\b\b\b\b\b\b\b\b\b\b\b\b\b\b\b\b\b\b\b\b\b\b\b\b\b\b\b\b\b\b\b36978688/45929032 bytes (80.5%)\b\b\b\b\b\b\b\b\b\b\b\b\b\b\b\b\b\b\b\b\b\b\b\b\b\b\b\b\b\b\b40280064/45929032 bytes (87.7%)\b\b\b\b\b\b\b\b\b\b\b\b\b\b\b\b\b\b\b\b\b\b\b\b\b\b\b\b\b\b\b43507712/45929032 bytes (94.7%)\b\b\b\b\b\b\b\b\b\b\b\b\b\b\b\b\b\b\b\b\b\b\b\b\b\b\b\b\b\b\b45929032/45929032 bytes (100.0%)\n",
            "  Done\n",
            "File saved as /root/.imageio/ffmpeg/ffmpeg-linux64-v3.3.1.\n"
          ],
          "name": "stdout"
        }
      ]
    },
    {
      "cell_type": "code",
      "metadata": {
        "id": "I7n3Ty3B5oBC"
      },
      "source": [
        "labels = ['AbdomenCT', 'BreastMRI', 'CXR', 'ChestCT', 'Hand', 'HeadCT']"
      ],
      "execution_count": null,
      "outputs": []
    },
    {
      "cell_type": "code",
      "metadata": {
        "id": "nOXRvH5P5oC7"
      },
      "source": [
        "with zipfile.ZipFile('/content/models.zip','r') as zippedfile:\n",
        "  zippedfile.extractall()\n",
        "\n",
        "model_baseline = tf.keras.models.load_model('models/baseline')\n",
        "model_gmp = tf.keras.models.load_model('models/gmp')\n",
        "model_gmp_hflip_rot180 = tf.keras.models.load_model('models/gmp_hflip_rot180')\n",
        "model_hflip = tf.keras.models.load_model('models/hflip')\n",
        "model_rot180 = tf.keras.models.load_model('models/rotate180')\n",
        "model_d01 = tf.keras.models.load_model('models/dropout_01')\n",
        "model_d2_01 = tf.keras.models.load_model('models/dropout_2_01')\n",
        "model_best = tf.keras.models.load_model('models/gmp+hflip+rot180+bn128')\n",
        "model_best_var_sizes = tf.keras.models.load_model('models/best_various_sizes')\n",
        "model_gmp_var_sizes = tf.keras.models.load_model('models/gmp_various_sizes')\n",
        "model_gmp_hflip = tf.keras.models.load_model('models/gmp_hflip')\n",
        "model_baseline_occ = tf.keras.models.load_model('models/baseline_occ')\n",
        "model_best_occ = tf.keras.models.load_model('models/best_occ')\n",
        "model_hflip_occ = tf.keras.models.load_model('models/hflip_occ')\n",
        "model_d2_01_occ = tf.keras.models.load_model('models/dropout_2_01_occ')\n",
        "model_gmp_occ = tf.keras.models.load_model('models/gmp_occ')"
      ],
      "execution_count": null,
      "outputs": []
    },
    {
      "cell_type": "code",
      "metadata": {
        "id": "lApMomuw5oFF"
      },
      "source": [
        "with zipfile.ZipFile('data_24.zip','r') as zippedfile:\n",
        "  zippedfile.extractall()\n",
        "with zipfile.ZipFile('data_32_40.zip','r') as zippedfile:\n",
        "  zippedfile.extractall()\n",
        "with zipfile.ZipFile('data_48.zip','r') as zippedfile:\n",
        "  zippedfile.extractall()\n",
        "with zipfile.ZipFile('data_64.zip','r') as zippedfile:\n",
        "  zippedfile.extractall()\n",
        "\n",
        "X_test_24 = np.load('/content/data_24/X_test_24.npy')\n",
        "y_test_24 = np.load('/content/data_24/y_test_24.npy')\n",
        "X_test_32 = np.load('/content/data_32_40/X_test_32.npy')\n",
        "y_test_32 = np.load('/content/data_32_40/y_test_32.npy')\n",
        "X_test_40 = np.load('/content/data_32_40/X_test_40.npy')\n",
        "y_test_40 = np.load('/content/data_32_40/y_test_40.npy')\n",
        "X_test_48 = np.load('/content/data_48/X_test_48.npy')\n",
        "y_test_48 = np.load('/content/data_48/y_test_48.npy')\n",
        "X_test_64 = np.load('/content/data_64/X_test.npy')\n",
        "y_test_64 = np.load('/content/data_64/y_test.npy')"
      ],
      "execution_count": null,
      "outputs": []
    },
    {
      "cell_type": "markdown",
      "metadata": {
        "id": "LE2SmYYaIAu0"
      },
      "source": [
        "Function calculating t-SNE 2D coordinates:"
      ]
    },
    {
      "cell_type": "code",
      "metadata": {
        "id": "zif1H2bu7eTD"
      },
      "source": [
        "def return_tsne(model, X_test, y_test, output_points, layer_name='global_max_pooling2d_1', low_res=False):\n",
        "  activations = []\n",
        "  \n",
        "  if low_res:\n",
        "    image = X_test\n",
        "\n",
        "    for l in model.layers:\n",
        "      if 'dense' in  l.name:\n",
        "        break\n",
        "\n",
        "      image = l(image)\n",
        "\n",
        "      if layer_name in l.name:\n",
        "        activations.append(image)\n",
        "\n",
        "    activations = activations[0]\n",
        "\n",
        "  else:\n",
        "    intermediate_layer_model = Model(inputs=model.input, outputs=model.get_layer(layer_name).output)\n",
        "\n",
        "    for i, img in enumerate(X_test):\n",
        "      if i == output_points:\n",
        "        break\n",
        "\n",
        "      img = np.expand_dims(img, axis=0)\n",
        "      activations.append(np.squeeze(intermediate_layer_model.predict(img)))\n",
        "\n",
        "  tsne_results = TSNE(random_state=1).fit_transform(np.array(activations)[0:output_points,:])\n",
        "\n",
        "  return tsne_results"
      ],
      "execution_count": null,
      "outputs": []
    },
    {
      "cell_type": "markdown",
      "metadata": {
        "id": "_sI8H9CvIHRH"
      },
      "source": [
        "Function showing only plot legend:"
      ]
    },
    {
      "cell_type": "code",
      "metadata": {
        "id": "HGixZU1o6apj"
      },
      "source": [
        "def get_legend(legend_colors, legend_labels):\n",
        "  plt.figure(figsize=(3.9,3.65))\n",
        "  f = lambda m,c: plt.plot([], [], marker=m, color=c, ls=\"none\")[0]\n",
        "  handles = [f(\"s\", legend_colors[i]) for i in range(len(legend_labels))]\n",
        "  legend = plt.legend(handles, legend_labels, loc=3, framealpha=1, frameon=True, fontsize=20, markerscale=3)\n",
        "\n",
        "  plt.gca().set_axis_off()\n",
        "  plt.show()"
      ],
      "execution_count": null,
      "outputs": []
    },
    {
      "cell_type": "markdown",
      "metadata": {
        "id": "hHNXC2V36vYI"
      },
      "source": [
        "## Mosaics"
      ]
    },
    {
      "cell_type": "code",
      "metadata": {
        "id": "2Gqkv-kX543d"
      },
      "source": [
        "def tsne_mosaic(tsne_results, X_test, y_test, output_rows, out_res=64, show_img=False, gray_scale=False, color_scale=False):\n",
        "  output_num_img = output_rows * output_rows\n",
        "  \n",
        "  tsne_results -= tsne_results.min(axis=0)\n",
        "  tsne_results /= tsne_results.max(axis=0)\n",
        "\n",
        "\n",
        "  grid = np.dstack(np.meshgrid(np.linspace(0, 1, output_rows), np.linspace(0, 1, output_rows))).reshape(-1, 2)\n",
        "  cost_matrix = cdist(grid, tsne_results, \"sqeuclidean\").astype(np.float32)\n",
        "  cost_matrix = cost_matrix * (100000 / cost_matrix.max())\n",
        "  row_asses, col_asses, _ = lapjv(cost_matrix)\n",
        "  grid_jv = grid[col_asses]\n",
        "  out = np.ones((output_rows*out_res, output_rows*out_res, 3))\n",
        "\n",
        "\n",
        "  i = 0\n",
        "  for pos, img in zip(grid_jv, X_test[0:output_num_img]):\n",
        "      h_range = int(round(pos[0] * (output_rows - 1) * out_res))\n",
        "      w_range = int(round(pos[1] * (output_rows - 1) * out_res))\n",
        "\n",
        "      if gray_scale:\n",
        "        _img = image.img_to_array(img)\n",
        "        _img[:,:] = np.argmax(y_test[i]) * 50\n",
        "        i = i + 1\n",
        "        scale = '_gray'\n",
        "        out = out.astype(np.uint8)\n",
        "\n",
        "      elif color_scale:\n",
        "        colors = [sns.color_palette('Set2', 6)[5],\n",
        "                  sns.color_palette('Set2', 6)[3],\n",
        "                  sns.color_palette('Set2', 6)[2],\n",
        "                  sns.color_palette('Set2', 6)[1],\n",
        "                  sns.color_palette('Set2', 6)[4],\n",
        "                  sns.color_palette('Set2', 6)[0]]\n",
        "\n",
        "        _img = np.full((out_res,out_res,3),colors[np.argmax(y_test[i])])\n",
        "        i = i + 1\n",
        "        scale = '_color'\n",
        "      \n",
        "      else:\n",
        "        scale = ''\n",
        "        _img = image.img_to_array(img)\n",
        "\n",
        "      out[h_range:h_range + out_res, w_range:w_range + out_res] = _img\n",
        "\n",
        "\n",
        "  filename = 'tsne_mosaic_' + str(output_rows) + scale + '.jpg'\n",
        "  out = image.array_to_img(out)\n",
        "  out.save(filename)\n",
        "\n",
        "  if show_img:\n",
        "    IPython.display.display(IPython.display.Image(data=filename, width=550, height=550))"
      ],
      "execution_count": null,
      "outputs": []
    },
    {
      "cell_type": "markdown",
      "metadata": {
        "id": "jJz4RocrgsVB"
      },
      "source": [
        "20 x 20 images:"
      ]
    },
    {
      "cell_type": "code",
      "metadata": {
        "id": "iz4Zi0_l5454"
      },
      "source": [
        "tsne_results_400 = return_tsne(model_best, X_test_64, y_test_64, 20*20)\n",
        "tsne_mosaic(tsne_results_400, X_test_64, y_test_64, 20, show_img=True)"
      ],
      "execution_count": null,
      "outputs": []
    },
    {
      "cell_type": "markdown",
      "metadata": {
        "id": "GRQ8JaqRguql"
      },
      "source": [
        "30 x 30 images:"
      ]
    },
    {
      "cell_type": "code",
      "metadata": {
        "id": "LLLC7y-f548Q"
      },
      "source": [
        "tsne_results_900 = return_tsne(model_best, X_test_64, y_test_64, 30*30)\n",
        "tsne_mosaic(tsne_results_900, X_test_64, y_test_64, 30, show_img=True)"
      ],
      "execution_count": null,
      "outputs": []
    },
    {
      "cell_type": "code",
      "metadata": {
        "id": "zHNm51bZ54-m"
      },
      "source": [
        "tsne_mosaic(tsne_results_900, X_test_64, y_test_64, 30, show_img=True, color_scale=True)"
      ],
      "execution_count": null,
      "outputs": []
    },
    {
      "cell_type": "markdown",
      "metadata": {
        "id": "VfKrrTI_gwwF"
      },
      "source": [
        "40 x 40 images:"
      ]
    },
    {
      "cell_type": "code",
      "metadata": {
        "id": "qGnKvvkb6N4n"
      },
      "source": [
        "tsne_results_1600 = return_tsne(model_best, X_test_64, y_test_64, 40*40)\n",
        "tsne_mosaic(tsne_results_1600, X_test_64, y_test_64, 40, show_img=True)"
      ],
      "execution_count": null,
      "outputs": []
    },
    {
      "cell_type": "markdown",
      "metadata": {
        "id": "LfdgyPHygy4H"
      },
      "source": [
        "132 x 132 images (test set contains 17687 images; square root is 132 rounding down - so that there are no empty spaces):"
      ]
    },
    {
      "cell_type": "code",
      "metadata": {
        "id": "R3M6BJC155BI"
      },
      "source": [
        "tsne_results_17424 = return_tsne(model_best, X_test_64, y_test_64, 132*132)\n",
        "tsne_mosaic(tsne_results_17424, X_test_64, y_test_64, 132, show_img=True)"
      ],
      "execution_count": null,
      "outputs": []
    },
    {
      "cell_type": "code",
      "metadata": {
        "id": "o-g6CK7G6R69"
      },
      "source": [
        "tsne_mosaic(tsne_results_17424, X_test_64, y_test_64, 132, show_img=True, color_scale=True)"
      ],
      "execution_count": null,
      "outputs": []
    },
    {
      "cell_type": "code",
      "metadata": {
        "colab": {
          "base_uri": "https://localhost:8080/",
          "height": 229
        },
        "id": "QOstf0a76R8_",
        "outputId": "6cc0ccb2-0d5e-4622-ffe0-b3ef9be4ac6e"
      },
      "source": [
        "new_legend_colors = [sns.color_palette('Set2', 6)[5],\n",
        "                     sns.color_palette('Set2', 6)[3],\n",
        "                     sns.color_palette('Set2', 6)[2],\n",
        "                     sns.color_palette('Set2', 6)[1],\n",
        "                     sns.color_palette('Set2', 6)[4],\n",
        "                     sns.color_palette('Set2', 6)[0]]\n",
        "\n",
        "get_legend(new_legend_colors, labels)"
      ],
      "execution_count": null,
      "outputs": [
        {
          "output_type": "display_data",
          "data": {
            "image/png": "[encoded data removed]",
            "text/plain": [
              "<Figure size 280.8x262.8 with 1 Axes>"
            ]
          },
          "metadata": {
            "tags": []
          }
        }
      ]
    },
    {
      "cell_type": "code",
      "metadata": {
        "id": "UhMT7mJc6R_W"
      },
      "source": [
        "tsne_mosaic(tsne_results_17424, X_test_64, y_test_64, 132, show_img=True, gray_scale=True)"
      ],
      "execution_count": null,
      "outputs": []
    },
    {
      "cell_type": "code",
      "metadata": {
        "colab": {
          "base_uri": "https://localhost:8080/",
          "height": 229
        },
        "id": "iuDqnodQ6SBv",
        "outputId": "0792e372-94fa-40b0-f76d-e61a758f95d5"
      },
      "source": [
        "get_legend([(i*50/255.0, i*50/255.0, i*50/255.0, 1.0) for i in range(len(labels))], labels)"
      ],
      "execution_count": null,
      "outputs": [
        {
          "output_type": "display_data",
          "data": {
            "image/png": "[encoded data removed]",
            "text/plain": [
              "<Figure size 280.8x262.8 with 1 Axes>"
            ]
          },
          "metadata": {
            "tags": []
          }
        }
      ]
    },
    {
      "cell_type": "markdown",
      "metadata": {
        "id": "qqefU8FaILFg"
      },
      "source": [
        "Function blending two mosaics:"
      ]
    },
    {
      "cell_type": "code",
      "metadata": {
        "id": "eq98zKlu6SHF"
      },
      "source": [
        "def blend_mosaics(img1, img2, filename, alpha=0.3):\n",
        "  res = Image.blend(img1, img2, alpha)\n",
        "\n",
        "  res.save(filename)\n",
        "  IPython.display.display(IPython.display.Image(data=filename, width=550, height=550))"
      ],
      "execution_count": null,
      "outputs": []
    },
    {
      "cell_type": "code",
      "metadata": {
        "id": "U08aUF7k6jLw"
      },
      "source": [
        "blend_mosaics(Image.open('/content/tsne_mosaic_132.jpg'), Image.open('/content/tsne_mosaic_132_color.jpg'), 'tsne_mosaics_added_132.jpg')"
      ],
      "execution_count": null,
      "outputs": []
    },
    {
      "cell_type": "code",
      "metadata": {
        "id": "D091uVSW6jNx"
      },
      "source": [
        "blend_mosaics(Image.open('/content/tsne_mosaic_30.jpg'), Image.open('/content/tsne_mosaic_30_color.jpg'), 'tsne_mosaics_added_30.jpg')"
      ],
      "execution_count": null,
      "outputs": []
    },
    {
      "cell_type": "markdown",
      "metadata": {
        "id": "dGKBJp71BR7I"
      },
      "source": [
        "## Scatter plots"
      ]
    },
    {
      "cell_type": "code",
      "metadata": {
        "id": "c9mnHJlF6jUL"
      },
      "source": [
        "def tsne_scatter(tsne_results, X_test, y_test, title, loc=4, as_dots=True):\n",
        "  tsne_results -= tsne_results.min(axis=0)\n",
        "  tsne_results /= tsne_results.max(axis=0)\n",
        "\n",
        "  y_labels = list(map(lambda x: labels[x], np.argmax(y_test, axis=1)))\n",
        "\n",
        "\n",
        "  if as_dots:\n",
        "    df = pd.DataFrame(y_labels, columns=['label'])\n",
        "    df['tsne-2d-one'] = tsne_results[:,0]\n",
        "    df['tsne-2d-two'] = tsne_results[:,1]\n",
        "\n",
        "    plt.figure(figsize=(16,10))\n",
        "    ax = sns.scatterplot(x='tsne-2d-one', y='tsne-2d-two', hue='label', palette=sns.color_palette('Set2', 6), data=df, legend='full', alpha=0.3)\n",
        "    plt.legend()\n",
        "    handles, legend_labels = ax.get_legend_handles_labels()\n",
        "    legend_labels, handles = zip(*sorted(zip(legend_labels, handles), key=lambda t: t[0]))\n",
        "    ax.legend(handles=handles, labels=legend_labels, loc=loc, fontsize=15)\n",
        "\n",
        "\n",
        "  else:\n",
        "    fig, ax = plt.subplots(figsize=(20,15))\n",
        "    artists = []\n",
        "    size = X_test.shape[1]\n",
        "    index = 0\n",
        "\n",
        "    for xy, i in zip(tsne_results, np.squeeze(X_test)):\n",
        "      \n",
        "      img_ = np.dstack((i, i, i))\n",
        "\n",
        "      color_index = np.argmax(y_test[index])\n",
        "      if np.argmax(y_test[index]) == 0:\n",
        "        color_index = 5\n",
        "      elif np.argmax(y_test[index]) == 1:\n",
        "        color_index = 3\n",
        "      elif np.argmax(y_test[index]) == 3:\n",
        "        color_index = 1 \n",
        "      elif np.argmax(y_test[index]) == 5:\n",
        "        color_index = 0\n",
        "\n",
        "      for w in range(size):\n",
        "        for h in range(size):\n",
        "          if (h < 1) or (h > size-3):\n",
        "            img_[h:h+2,:,0] = sns.color_palette('Set2',6)[color_index][0]\n",
        "            img_[h:h+2,:,1] = sns.color_palette('Set2',6)[color_index][1]\n",
        "            img_[h:h+2,:,2] = sns.color_palette('Set2',6)[color_index][2]\n",
        "\n",
        "          if (w < 1) or (w > size-3):\n",
        "            img_[:,w:w+2,0] = sns.color_palette('Set2',6)[color_index][0]\n",
        "            img_[:,w:w+2,1] = sns.color_palette('Set2',6)[color_index][1]\n",
        "            img_[:,w:w+2,2] = sns.color_palette('Set2',6)[color_index][2]\n",
        "\n",
        "      x0, y0 = xy\n",
        "      img = OffsetImage(img_)\n",
        "      ab = AnnotationBbox(img, (x0, y0), xycoords='data', frameon=False)\n",
        "      artists.append(ax.add_artist(ab))\n",
        "      index = index + 1\n",
        "\n",
        "    ax.update_datalim(tsne_results)\n",
        "    ax.autoscale()\n",
        "\n",
        "\n",
        "  plt.title(title, fontsize=25)\n",
        "  plt.xticks(fontsize=20)\n",
        "  plt.yticks(fontsize=20)\n",
        "  plt.xlabel('tsne-2d-one', fontsize=20)\n",
        "  plt.ylabel('tsne-2d-two', fontsize=20)\n",
        "  plt.show()"
      ],
      "execution_count": null,
      "outputs": []
    },
    {
      "cell_type": "code",
      "metadata": {
        "id": "m8TR1mww6jWe"
      },
      "source": [
        "tsne_results_best = return_tsne(model_best, X_test_64, y_test_64, X_test_64.shape[0])\n",
        "tsne_scatter(tsne_results_best, X_test_64, y_test_64, 'Best model', loc=2)"
      ],
      "execution_count": null,
      "outputs": []
    },
    {
      "cell_type": "code",
      "metadata": {
        "id": "vLPA-TR36jYs"
      },
      "source": [
        "tsne_results_gmp = return_tsne(model_gmp, X_test_64, y_test_64, X_test_64.shape[0])\n",
        "tsne_scatter(tsne_results_gmp, X_test_64, y_test_64, 'Global Max Pooling', loc=2)"
      ],
      "execution_count": null,
      "outputs": []
    },
    {
      "cell_type": "code",
      "metadata": {
        "id": "ElWsQShNBiBn"
      },
      "source": [
        "tsne_results_gmp_hflip = return_tsne(model_gmp_hflip, X_test_64, y_test_64, X_test_64.shape[0], layer_name='global_max_pooling2d_2')\n",
        "tsne_scatter(tsne_results_gmp_hflip, X_test_64, y_test_64, 'Global Max Pooling + Horizontal flip', loc=2)"
      ],
      "execution_count": null,
      "outputs": []
    },
    {
      "cell_type": "code",
      "metadata": {
        "id": "I-oY1W9jBiED"
      },
      "source": [
        "tsne_results_gmp_hflip_rot180 = return_tsne(model_gmp_hflip_rot180, X_test_64, y_test_64, X_test_64.shape[0])\n",
        "tsne_scatter(tsne_results_gmp_hflip_rot180, X_test_64, y_test_64, 'Global Max Pooling + Horizontal flip + Rotation <= 180°', loc=2)"
      ],
      "execution_count": null,
      "outputs": []
    },
    {
      "cell_type": "code",
      "metadata": {
        "id": "WjwOPlovBiGd"
      },
      "source": [
        "tsne_results_var_sizes = return_tsne(model_best_var_sizes, X_test_64, y_test_64, X_test_64.shape[0], layer_name='global_max_pooling2d_2')\n",
        "tsne_scatter(tsne_results_var_sizes, X_test_64, y_test_64, 'Best model - trained on different size images generator', loc=2)"
      ],
      "execution_count": null,
      "outputs": []
    },
    {
      "cell_type": "code",
      "metadata": {
        "id": "LlkLTzn3BiIq"
      },
      "source": [
        "tsne_results_gmp_var_sizes = return_tsne(model_gmp_var_sizes, X_test_64, y_test_64, X_test_64.shape[0])\n",
        "tsne_scatter(tsne_results_gmp_var_sizes, X_test_64, y_test_64, 'Global Max Pooling - trained on different size images generator', loc=2)"
      ],
      "execution_count": null,
      "outputs": []
    },
    {
      "cell_type": "markdown",
      "metadata": {
        "id": "PO4b4Sq7B8kK"
      },
      "source": [
        "## Scatter plots - smaller input images"
      ]
    },
    {
      "cell_type": "code",
      "metadata": {
        "id": "Ze-KKhBJBiKT"
      },
      "source": [
        "tsne_results_best_24 = return_tsne(model_best, X_test_24, y_test_24, X_test_24.shape[0], low_res=True)\n",
        "tsne_scatter(tsne_results_best_24, X_test_24, y_test_24, 'Best model - image size 24 x 24 px')"
      ],
      "execution_count": null,
      "outputs": []
    },
    {
      "cell_type": "code",
      "metadata": {
        "id": "ZwQipI-6Bqfr"
      },
      "source": [
        "tsne_results_best_32 = return_tsne(model_best, X_test_32, y_test_32, X_test_32.shape[0], low_res=True)\n",
        "tsne_scatter(tsne_results_best_32, X_test_32, y_test_32, 'Best model - image size 32 x 32 px')"
      ],
      "execution_count": null,
      "outputs": []
    },
    {
      "cell_type": "code",
      "metadata": {
        "id": "5nVtop1IBqhd"
      },
      "source": [
        "tsne_results_best_40 = return_tsne(model_best, X_test_40, y_test_40, X_test_40.shape[0], low_res=True)\n",
        "tsne_scatter(tsne_results_best_40, X_test_40, y_test_40, 'Best model - image size 40 x 40 px')"
      ],
      "execution_count": null,
      "outputs": []
    },
    {
      "cell_type": "code",
      "metadata": {
        "id": "DFBxU3R4Bqjr"
      },
      "source": [
        "tsne_results_best_48 = return_tsne(model_best, X_test_48, y_test_48, X_test_48.shape[0], low_res=True)\n",
        "tsne_scatter(tsne_results_best_48, X_test_48, y_test_48, 'Best model - image size 48 x 48 px')"
      ],
      "execution_count": null,
      "outputs": []
    },
    {
      "cell_type": "code",
      "metadata": {
        "id": "GC4v_YUOBql8"
      },
      "source": [
        "tsne_results_best_var_24 = return_tsne(model_best_var_sizes, X_test_24, y_test_24, X_test_24.shape[0], layer_name='global_max_pooling2d_2', low_res=True)\n",
        "tsne_scatter(tsne_results_best_var_24, X_test_24, y_test_24, 'Best model - trained on different size images generator - image size 24 x 24 px')"
      ],
      "execution_count": null,
      "outputs": []
    },
    {
      "cell_type": "code",
      "metadata": {
        "id": "BPZNxJiVBqoT"
      },
      "source": [
        "tsne_results_best_var_32 = return_tsne(model_best_var_sizes, X_test_32, y_test_32, X_test_32.shape[0], layer_name='global_max_pooling2d_2', low_res=True)\n",
        "tsne_scatter(tsne_results_best_var_32, X_test_32, y_test_32, 'Best model - trained on different size images generator - image size 32 x 32 px')"
      ],
      "execution_count": null,
      "outputs": []
    },
    {
      "cell_type": "code",
      "metadata": {
        "id": "7LbrnRjDBz7K"
      },
      "source": [
        "tsne_results_best_var_40 = return_tsne(model_best_var_sizes, X_test_40, y_test_40, X_test_40.shape[0], layer_name='global_max_pooling2d_2', low_res=True)\n",
        "tsne_scatter(tsne_results_best_var_40, X_test_40, y_test_40, 'Best model - trained on different size images generator - image size 40 x 40 px')"
      ],
      "execution_count": null,
      "outputs": []
    },
    {
      "cell_type": "code",
      "metadata": {
        "id": "KqVXiVxEBz9n"
      },
      "source": [
        "tsne_results_best_var_48 = return_tsne(model_best_var_sizes, X_test_48, y_test_48, X_test_48.shape[0], layer_name='global_max_pooling2d_2', low_res=True)\n",
        "tsne_scatter(tsne_results_best_var_48, X_test_48, y_test_48, 'Best model - trained on different size images generator- image size 48 x 48 px')"
      ],
      "execution_count": null,
      "outputs": []
    },
    {
      "cell_type": "markdown",
      "metadata": {
        "id": "SylLzhx6B3od"
      },
      "source": [
        "## Scatter plots with images"
      ]
    },
    {
      "cell_type": "code",
      "metadata": {
        "id": "vPclPwxRBz_5"
      },
      "source": [
        "tsne_scatter(tsne_results_best, X_test_64, y_test_64, 'Best model', as_dots=False)"
      ],
      "execution_count": null,
      "outputs": []
    },
    {
      "cell_type": "code",
      "metadata": {
        "id": "lJAqzvkUB0CR"
      },
      "source": [
        "tsne_scatter(tsne_results_best_24, X_test_24, y_test_24, 'Best model - image size 24 x 24 px', as_dots=False)"
      ],
      "execution_count": null,
      "outputs": []
    },
    {
      "cell_type": "code",
      "metadata": {
        "id": "YdODT4zvB0EP"
      },
      "source": [
        "tsne_scatter(tsne_results_gmp, X_test_64, y_test_64, 'Global Max Pooling', as_dots=False)"
      ],
      "execution_count": null,
      "outputs": []
    },
    {
      "cell_type": "code",
      "metadata": {
        "id": "j4QlQyTGB0GB"
      },
      "source": [
        "tsne_results_gmp_24 = return_tsne(model_gmp, X_test_24, y_test_24, X_test_24.shape[0], low_res=True)\n",
        "tsne_scatter(tsne_results_gmp_24, X_test_24, y_test_24, 'Global Max Pooling - image size 24 x 24 px', as_dots=False)"
      ],
      "execution_count": null,
      "outputs": []
    },
    {
      "cell_type": "markdown",
      "metadata": {
        "id": "jaTDdZ_vXXB_"
      },
      "source": [
        "## RasterFairy"
      ]
    },
    {
      "cell_type": "code",
      "metadata": {
        "id": "i6z4o2YlB0Hw"
      },
      "source": [
        "def raster_fairy(tsne_results, X_test, y_test, title, rect=True, circle=False, as_img=False, target_grid=None, return_params=False):\n",
        "  if rect:\n",
        "    grid_xy, (width, height) = rasterfairy.transformPointCloud2D(tsne_results)\n",
        "\n",
        "  elif circle:\n",
        "    radius, adjustmentFactor, count = rasterfairy.getBestCircularMatch(X_test.shape[0])\n",
        "    print('The smallest circle that can hold', X_test.shape[0], 'has a radius of', radius, 'and will fit', count, 'points')\n",
        "\n",
        "    arrangement = rasterfairy.getCircularArrangement(radius, adjustmentFactor)\n",
        "    rasterMask = rasterfairy.arrangementToRasterMask(arrangement)\n",
        "\n",
        "    grid_xy, (width, height) = rasterfairy.transformPointCloud2D(tsne_results, target=rasterMask, autoAdjustCount = False)\n",
        "\n",
        "  else:\n",
        "      rasterMask = rasterfairy.getRasterMaskFromImage(target_grid)\n",
        "      print(rasterMask['count'], 'black pixels in map')\n",
        "\n",
        "      grid_xy, (width, height) = rasterfairy.transformPointCloud2D(tsne_results, target=rasterMask, autoAdjustCount=True)\n",
        "\n",
        "      dim = max(width, height)\n",
        "      grid_xy[:,0] += 0.5*(dim-width)\n",
        "      grid_xy[:,1] += 0.5*(dim-height)\n",
        "\n",
        "\n",
        "  if as_img:\n",
        "    fig, ax = plt.subplots(figsize=(20,15))\n",
        "    artists = []\n",
        "    size = X_test.shape[1]\n",
        "    index = 0\n",
        "\n",
        "    for xy, i in zip(grid_xy, np.squeeze(X_test)):\n",
        "      img_ = np.dstack((i, i, i))\n",
        "\n",
        "      color_index = np.argmax(y_test[index])\n",
        "      if np.argmax(y_test[index]) == 0:\n",
        "        color_index = 5\n",
        "      elif np.argmax(y_test[index]) == 1:\n",
        "        color_index = 3\n",
        "      elif np.argmax(y_test[index]) == 3:\n",
        "        color_index = 1 \n",
        "      elif np.argmax(y_test[index]) == 5:\n",
        "        color_index = 0\n",
        "\n",
        "      for w in range(size):\n",
        "        for h in range(size):\n",
        "          if (h < 1) or (h > size-3):\n",
        "            img_[h:h+2,:,0] = sns.color_palette('Set2',6)[color_index][0]\n",
        "            img_[h:h+2,:,1] = sns.color_palette('Set2',6)[color_index][1]\n",
        "            img_[h:h+2,:,2] = sns.color_palette('Set2',6)[color_index][2]\n",
        "\n",
        "          if (w < 1) or (w > size-3):\n",
        "            img_[:,w:w+2,0] = sns.color_palette('Set2',6)[color_index][0]\n",
        "            img_[:,w:w+2,1] = sns.color_palette('Set2',6)[color_index][1]\n",
        "            img_[:,w:w+2,2] = sns.color_palette('Set2',6)[color_index][2]\n",
        "        \n",
        "      x0, y0 = xy\n",
        "      img = OffsetImage(img_)\n",
        "      ab = AnnotationBbox(img, (x0, y0), xycoords='data', frameon=False)\n",
        "      artists.append(ax.add_artist(ab))\n",
        "      index = index + 1\n",
        "\n",
        "    ax.update_datalim(grid_xy)\n",
        "    ax.autoscale()\n",
        "\n",
        "\n",
        "  else:\n",
        "    y_labels = list(map(lambda x: labels[x], np.argmax(y_test, axis=1)))\n",
        "    df = pd.DataFrame(y_labels, columns=['label'])\n",
        "    df['grid-xy-one'] = grid_xy[:,0]\n",
        "    df['grid-xy-two'] = grid_xy[:,1]\n",
        "\n",
        "    fig = plt.figure(figsize=(10,10))\n",
        "    ax = sns.scatterplot(x='grid-xy-one', y='grid-xy-two', hue='label', palette=sns.color_palette('Set2', 6), data=df, legend=False)\n",
        "\n",
        "\n",
        "  ax.spines['top'].set_visible(False)\n",
        "  ax.spines['right'].set_visible(False)\n",
        "  ax.spines['bottom'].set_visible(False)\n",
        "  ax.spines['left'].set_visible(False)\n",
        "  ax.axes.get_xaxis().set_visible(False)\n",
        "  ax.axes.get_yaxis().set_visible(False)\n",
        "  ax.autoscale_view(True,True,True)\n",
        "  ax.invert_yaxis()\n",
        "  plt.title(title, fontsize=20)\n",
        "  plt.show()\n",
        "\n",
        "  if return_params:\n",
        "    return grid_xy, width, height"
      ],
      "execution_count": null,
      "outputs": []
    },
    {
      "cell_type": "code",
      "metadata": {
        "id": "8jGUlXCIB0KB"
      },
      "source": [
        "tsne_results_1_20th = return_tsne(model_best, X_test_64[::20], y_test_64[::20], X_test_64[::20].shape[0])\n",
        "grid_xy_rect, width_rect, height_rect = raster_fairy(tsne_results_1_20th, X_test_64[::20], y_test_64[::20], 'Best model', return_params=True)"
      ],
      "execution_count": null,
      "outputs": []
    },
    {
      "cell_type": "code",
      "metadata": {
        "id": "W1P2HjnYXhtF"
      },
      "source": [
        "tsne_results_1_20th_32 = return_tsne(model_best, X_test_32[::20], y_test_32[::20], X_test_32[::20].shape[0], low_res=True)\n",
        "raster_fairy(tsne_results_1_20th_32, X_test_32[::20], y_test_32[::20], 'Best model - image size 32 x 32 px')"
      ],
      "execution_count": null,
      "outputs": []
    },
    {
      "cell_type": "markdown",
      "metadata": {
        "id": "_hvpZYCghp1h"
      },
      "source": [
        "Plotting with 32 x 32 px images, so they do not overlap on the plot:"
      ]
    },
    {
      "cell_type": "code",
      "metadata": {
        "id": "bsZsv0gvXhv6"
      },
      "source": [
        "raster_fairy(tsne_results_1_20th_32, X_test_32[::20], y_test_32[::20], 'Best model - image size 32 x 32 px', as_img=True)"
      ],
      "execution_count": null,
      "outputs": []
    },
    {
      "cell_type": "code",
      "metadata": {
        "id": "6uAsVkPTXhyw"
      },
      "source": [
        "grid_xy_circle, width_circle, height_circle = raster_fairy(tsne_results_1_20th, X_test_64[::20], y_test_64[::20], 'Best model', rect=False, circle=True, return_params=True)"
      ],
      "execution_count": null,
      "outputs": []
    },
    {
      "cell_type": "code",
      "metadata": {
        "id": "xY86xArSXh1R"
      },
      "source": [
        "raster_fairy(tsne_results_1_20th_32, X_test_32[::20], y_test_32[::20], 'Best model - image size 32 x 32 px', rect=False, circle=True, as_img=True)"
      ],
      "execution_count": null,
      "outputs": []
    },
    {
      "cell_type": "markdown",
      "metadata": {
        "id": "5t-E5XB3hZBM"
      },
      "source": [
        "Using custom binary mask:"
      ]
    },
    {
      "cell_type": "code",
      "metadata": {
        "id": "BQs_fiLRXh3V"
      },
      "source": [
        "target_tree = Image.open('/content/christmas_tree.jpg')\n",
        "target_tree"
      ],
      "execution_count": null,
      "outputs": []
    },
    {
      "cell_type": "code",
      "metadata": {
        "id": "XwJFJJ8tZ5rf"
      },
      "source": [
        "raster_fairy(tsne_results_1_20th, X_test_64[::20], y_test_64[::20], 'Best model', rect=False, circle=False, target_grid=target_tree)"
      ],
      "execution_count": null,
      "outputs": []
    },
    {
      "cell_type": "code",
      "metadata": {
        "id": "-LvasKEfZ5uG"
      },
      "source": [
        "raster_fairy(tsne_results_1_20th_32, X_test_32[::20], y_test_32[::20], 'Best model - image size 32 x 32 px', rect=False, circle=False, as_img=True, target_grid=target_tree)"
      ],
      "execution_count": null,
      "outputs": []
    },
    {
      "cell_type": "code",
      "metadata": {
        "id": "mZtPDUGSZ5w_"
      },
      "source": [
        "target_hand = Image.open('/content/hand_mask.jpeg')\n",
        "target_hand"
      ],
      "execution_count": null,
      "outputs": []
    },
    {
      "cell_type": "code",
      "metadata": {
        "id": "_0anYH2mZ5zt"
      },
      "source": [
        "grid_xy_hand, width_hand, height_hand = raster_fairy(tsne_results_1_20th, X_test_64[::20], y_test_64[::20], 'Best model', rect=False, circle=False, target_grid=target_hand, return_params=True)"
      ],
      "execution_count": null,
      "outputs": []
    },
    {
      "cell_type": "code",
      "metadata": {
        "id": "h3jrgNC5Z52N"
      },
      "source": [
        "raster_fairy(tsne_results_1_20th_32, X_test_32[::20], y_test_32[::20], 'Best model - image size 32 x 32 px', rect=False, circle=False, as_img=True, target_grid=target_hand)"
      ],
      "execution_count": null,
      "outputs": []
    },
    {
      "cell_type": "markdown",
      "metadata": {
        "id": "csUbWKgiav0P"
      },
      "source": [
        "## RasterFairy - animation"
      ]
    },
    {
      "cell_type": "markdown",
      "metadata": {
        "id": "lT7BV-iPioJT"
      },
      "source": [
        "Images sequence may be saved as gif directly by the function (as_gif=True) or the images may be saved as jpgs and processed later externally (eg. using ffmpeg)."
      ]
    },
    {
      "cell_type": "code",
      "metadata": {
        "id": "v6P6wzbzbb0S"
      },
      "source": [
        "def raster_fairy_gif(tsne_results, grid_xy, width, height, X_test, y_test, name, as_gif=True):\n",
        "  images = []\n",
        "  pointCount = len(X_test)\n",
        "\n",
        "  px_from = grid_xy[:,0] - min(grid_xy[:,0])\n",
        "  py_from = grid_xy[:,1] - min(grid_xy[:,1])\n",
        "  px_from /= max(px_from)\n",
        "  py_from /= max(py_from)\n",
        "\n",
        "  px_to = tsne_results[:,0] - min(tsne_results[:,0])\n",
        "  py_to = tsne_results[:,1] - min(tsne_results[:,1])\n",
        "  px_to /= max(px_to)\n",
        "  py_to /= max(py_to)\n",
        "\n",
        "  if (width > height):\n",
        "      py_to = py_to * float(height) / float(width) + 0.5 * (1.0 - float(height) / float(width))\n",
        "  else:\n",
        "      px_to = px_to * float(width) / float(height) + 0.5 * (1.0 - float(width) / float(height))\n",
        "\n",
        "  y_labels = list(map(lambda x: labels[x], np.argmax(y_test, axis=1)))\n",
        "\n",
        "  steps = 50\n",
        "  for i in range(steps*2):\n",
        "      dx = []\n",
        "      dy = []\n",
        "      t = 1.0- abs(1.0 * i / (steps-1) - 1.0)\n",
        "\n",
        "      for j in range(pointCount):\n",
        "          dx.append((1.0-t)*px_from[j] + t*px_to[j])\n",
        "          dy.append((1.0-t)*py_from[j] + t*py_to[j])\n",
        "      \n",
        "      df = pd.DataFrame(y_labels, columns=['label'])\n",
        "      df['dx'] = dx\n",
        "      df['dy'] = dy\n",
        "      fig2 = plt.figure(figsize=(10,10))\n",
        "      ax = sns.scatterplot(x='dx', y='dy', hue='label', palette=sns.color_palette('Set2', 6), data=df, legend=False)\n",
        "      ax.spines['top'].set_visible(False)\n",
        "      ax.spines['right'].set_visible(False)\n",
        "      ax.spines['bottom'].set_visible(False)\n",
        "      ax.spines['left'].set_visible(False)\n",
        "      ax.axes.get_xaxis().set_visible(False)\n",
        "      ax.axes.get_yaxis().set_visible(False)\n",
        "      ax.axes.set_xlim([-0.01, 1.01])\n",
        "      ax.axes.set_ylim([-0.01, 1.01])\n",
        "      ax.invert_yaxis()\n",
        "      IPython.display.clear_output(wait=True)\n",
        "      \n",
        "      buf = io.BytesIO()\n",
        "      plt.savefig(buf, format='jpg')\n",
        "      buf.seek(0)\n",
        "\n",
        "      if as_gif:\n",
        "        images.append(np.array(Image.open(buf)))\n",
        "      else:\n",
        "        (Image.open(buf)).save(name + '/frame%04d.jpg' % i)\n",
        "      \n",
        "  if as_gif:\n",
        "    clip = ImageSequenceClip(images,fps=25)\n",
        "    clip.write_gif(name + '.gif')"
      ],
      "execution_count": null,
      "outputs": []
    },
    {
      "cell_type": "code",
      "metadata": {
        "colab": {
          "background_save": true
        },
        "id": "tIMzE2Iyb0-_"
      },
      "source": [
        "raster_fairy_gif(tsne_results_1_20th, grid_xy_rect, width_rect, height_rect, X_test_64[::20], y_test_64[::20], 'rectangle')"
      ],
      "execution_count": null,
      "outputs": []
    },
    {
      "cell_type": "code",
      "metadata": {
        "colab": {
          "background_save": true
        },
        "id": "_BFQ4pXzb1Bt"
      },
      "source": [
        "with open('/content/rectangle.gif','rb') as f:\n",
        "  IPython.display.display(IPython.display.Image(data=f.read(), format='png'))"
      ],
      "execution_count": null,
      "outputs": []
    },
    {
      "cell_type": "code",
      "metadata": {
        "id": "96s65-esb1Es"
      },
      "source": [
        "raster_fairy_gif(tsne_results_1_20th, grid_xy_circle, width_circle, height_circle, X_test_64[::20], y_test_64[::20], 'circle')"
      ],
      "execution_count": null,
      "outputs": []
    },
    {
      "cell_type": "code",
      "metadata": {
        "colab": {
          "background_save": true
        },
        "id": "KUlf9Dz1b1HH"
      },
      "source": [
        "with open('/content/circle.gif','rb') as f:\n",
        "  IPython.display.display(IPython.display.Image(data=f.read(), format='png'))"
      ],
      "execution_count": null,
      "outputs": []
    },
    {
      "cell_type": "code",
      "metadata": {
        "id": "gYQONUypb1JS"
      },
      "source": [
        "raster_fairy_gif(tsne_results_1_20th, grid_xy_hand, width_hand, height_hand, X_test_64[::20], y_test_64[::20], 'hand')"
      ],
      "execution_count": null,
      "outputs": []
    },
    {
      "cell_type": "code",
      "metadata": {
        "id": "i21QD7twcUBG"
      },
      "source": [
        "with open('/content/hand.gif','rb') as f:\n",
        "  IPython.display.display(IPython.display.Image(data=f.read(), format='png'))"
      ],
      "execution_count": null,
      "outputs": []
    }
  ]
}